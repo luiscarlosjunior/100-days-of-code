{
 "cells": [
  {
   "cell_type": "markdown",
   "metadata": {},
   "source": [
    "## Exemplo de Simulated Anneling"
   ]
  },
  {
   "cell_type": "markdown",
   "metadata": {},
   "source": [
    "Vamos importar duas bibliotecas para poder nos auxiliar"
   ]
  },
  {
   "cell_type": "code",
   "execution_count": 1,
   "metadata": {},
   "outputs": [],
   "source": [
    "import numpy as np\n",
    "import matplotlib.pyplot as plt"
   ]
  },
  {
   "cell_type": "code",
   "execution_count": 2,
   "metadata": {},
   "outputs": [
    {
     "data": {
      "text/plain": [
       "{'divide': 'warn', 'over': 'warn', 'under': 'ignore', 'invalid': 'warn'}"
      ]
     },
     "execution_count": 2,
     "metadata": {},
     "output_type": "execute_result"
    }
   ],
   "source": [
    "# ignored the warning of zero division\n",
    "np.seterr(divide=\"ignore\")"
   ]
  },
  {
   "cell_type": "markdown",
   "metadata": {},
   "source": [
    "#### Iniciando as variáveis do SA para uma primeira análise"
   ]
  },
  {
   "cell_type": "code",
   "execution_count": 4,
   "metadata": {},
   "outputs": [],
   "source": [
    "# Solução inicial\n",
    "x = 2\n",
    "y = 1"
   ]
  },
  {
   "cell_type": "markdown",
   "metadata": {},
   "source": [
    "> Para analisar vamos usar a função de Himmelblau"
   ]
  },
  {
   "cell_type": "code",
   "execution_count": 5,
   "metadata": {},
   "outputs": [],
   "source": [
    "z = ((x**2) + y - 11)**2 + (x + (y**2) - 7)**2"
   ]
  },
  {
   "cell_type": "markdown",
   "metadata": {},
   "source": [
    "Vamos imprimir essa primeira solução"
   ]
  },
  {
   "cell_type": "code",
   "execution_count": 6,
   "metadata": {},
   "outputs": [
    {
     "name": "stdout",
     "output_type": "stream",
     "text": [
      "x é: 2.000\n",
      "y é: 1.000\n",
      "z é: 52.000\n"
     ]
    }
   ],
   "source": [
    "print(\"x é: %0.3f\" % x)\n",
    "print(\"y é: %0.3f\" % y)\n",
    "print(\"z é: %0.3f\" % z)"
   ]
  },
  {
   "cell_type": "markdown",
   "metadata": {},
   "source": [
    "### Usando o SA"
   ]
  },
  {
   "cell_type": "markdown",
   "metadata": {},
   "source": [
    "Declarando as variáveis iniciais"
   ]
  },
  {
   "cell_type": "code",
   "execution_count": 8,
   "metadata": {},
   "outputs": [],
   "source": [
    "T0 = 1000 #Temperatura\n",
    "temp_para_plotar = T0 #Variável para plotar a solução\n",
    "\n",
    "M = 300 # Quantas vezes a temperatura irá decair\n",
    "N = 15 #Quantas vezes irá procurar pela visinhança\n",
    "alpha = 0.85 #Quanto você deseja diminuir a temperatura ao aumentar m em 1 (m pequeno) \n",
    "\n",
    "k = 0.1 #Ajuda a reduzir o passo a passo\n",
    "\n",
    "#Variáveis para plotar\n",
    "temp = [] # Plotar a temperatura\n",
    "obj_val = []"
   ]
  },
  {
   "cell_type": "markdown",
   "metadata": {},
   "source": [
    "> Dois laços para caminhar no vizinhança"
   ]
  },
  {
   "cell_type": "code",
   "execution_count": 24,
   "metadata": {},
   "outputs": [],
   "source": [
    "for i in range(M): # Quantas vezes para decair a temperatura\n",
    "    for j in range(N):\n",
    "        \n",
    "        #Para a variavel de decisão x \n",
    "        rand_num_x_1 = np.random.rand() \n",
    "        rand_num_x_2 = np.random.rand()\n",
    "        \n",
    "        if rand_num_x_1 >= 0.5: #maior que 0.5, iremos aumentar\n",
    "            step_size_x = k * rand_num_x_2 #Verificar que estamos com menor\n",
    "        else:\n",
    "            step_size_x = -k * rand_num_x_2 #Menor que 0.5, nos diminuimos\n",
    "            \n",
    "        #Para a variável de decisão y\n",
    "        rand_num_y_1 = np.random.rand()        \n",
    "        rand_num_y_2 = np.random.rand()\n",
    "        \n",
    "        if rand_num_y_1 >= 0.5:\n",
    "            step_size_y = k * rand_num_y_2\n",
    "        else:\n",
    "            step_size_y = -k * rand_num_y_2\n",
    "            \n",
    "        # temporário porque ainda precisamos saber se devemos pegar essa nova \n",
    "        #solução ou ficar onde estamos e olhar novamente\n",
    "        x_temporario = x + step_size_x\n",
    "        y_temporario = y + step_size_y\n",
    "        \n",
    "        # Possíveis novos movimentos com valores temporários\n",
    "        # é preciso ver se é melhor ou pior do que a solução atual\n",
    "        obj_val_possivel = ((x_temporario**2) + y_temporario - 11)**2 + (x_temporario + (y_temporario**2)-7)**2\n",
    "        \n",
    "        #solução atual\n",
    "        obj_val_atual = ((x**2) + y - 11)**2 + (x + (y**2)-7)**2\n",
    "        \n",
    "        # Em caso da nossa nova solução for pior, com a ajuda de um número aleatório precisamos descobrir se pegamos ou não\n",
    "        rand_num = np.random.rand()\n",
    "        \n",
    "        #Se a solução possível for pior, com a ajuda do número aleatório\n",
    "                 # acima, vamos deixar uma fórmula decidir se vamos aceitá-la ou fique onde estamos\n",
    "                 # quanto mais perto chegarmos do final de nossa pesquisa (menor será o valor temporário)\n",
    "                 # será menos provável que aceite soluções piores porque o número de radom\n",
    "                 # provavelmente será maior\n",
    "        formula = 1/(np.exp((obj_val_possivel - obj_val_atual)/T0))\n",
    "        \n",
    "        #Verificamos se iremos fazer a mudança\n",
    "        if obj_val_possivel <= obj_val_atual: \n",
    "            x = x_temporario\n",
    "            y = y_temporario\n",
    "        elif rand_num <= formula:\n",
    "            x = x_temporario\n",
    "            y = y_temporario\n",
    "        else:\n",
    "            x = x\n",
    "            y = y\n",
    "        \n",
    "    temp.append(T0)\n",
    "    obj_val.append(obj_val_atual)\n",
    "    T0 = alpha * T0"
   ]
  },
  {
   "cell_type": "code",
   "execution_count": 25,
   "metadata": {},
   "outputs": [
    {
     "name": "stdout",
     "output_type": "stream",
     "text": [
      "\n",
      "x é: 2.99957\n",
      "y é: 2.00013\n",
      "Resultado é: 0.00001\n"
     ]
    }
   ],
   "source": [
    "print()\n",
    "print(\"x é: %0.5f\" % x)\n",
    "print(\"y é: %0.5f\" % y)\n",
    "print(\"Resultado é: %0.5f\" % obj_val_atual)"
   ]
  },
  {
   "cell_type": "code",
   "execution_count": 26,
   "metadata": {},
   "outputs": [
    {
     "data": {
      "text/plain": [
       "<function matplotlib.pyplot.yticks(ticks=None, labels=None, **kwargs)>"
      ]
     },
     "execution_count": 26,
     "metadata": {},
     "output_type": "execute_result"
    },
    {
     "data": {
      "image/png": "[encoded data removed]",
      "text/plain": [
       "<Figure size 432x288 with 1 Axes>"
      ]
     },
     "metadata": {
      "needs_background": "light"
     },
     "output_type": "display_data"
    }
   ],
   "source": [
    "plt.plot(temp, obj_val)\n",
    "plt.title(\"Z at Temperature Values\", fontsize=20, fontweight='bold')\n",
    "plt.xlabel(\"Temperature\", fontsize=18, fontweight='bold')\n",
    "plt.ylabel(\"Z\", fontsize=18, fontweight='bold')\n",
    "\n",
    "plt.xlim(temp_para_plotar, 0)\n",
    "plt.xticks(np.arange(min(temp), max(temp), 100), fontweight='bold')\n",
    "plt.yticks"
   ]
  },
  {
   "cell_type": "code",
   "execution_count": null,
   "metadata": {},
   "outputs": [],
   "source": []
  }
 ],
 "metadata": {
  "kernelspec": {
   "display_name": "Python 3",
   "language": "python",
   "name": "python3"
  },
  "language_info": {
   "codemirror_mode": {
    "name": "ipython",
    "version": 3
   },
   "file_extension": ".py",
   "mimetype": "text/x-python",
   "name": "python",
   "nbconvert_exporter": "python",
   "pygments_lexer": "ipython3",
   "version": "3.7.4"
  }
 },
 "nbformat": 4,
 "nbformat_minor": 2
}
